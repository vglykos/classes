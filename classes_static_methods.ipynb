{
  "nbformat": 4,
  "nbformat_minor": 0,
  "metadata": {
    "colab": {
      "provenance": [],
      "authorship_tag": "ABX9TyMwdf4LRMWAAhM40+WZnjGS",
      "include_colab_link": true
    },
    "kernelspec": {
      "name": "python3",
      "display_name": "Python 3"
    },
    "language_info": {
      "name": "python"
    }
  },
  "cells": [
    {
      "cell_type": "markdown",
      "metadata": {
        "id": "view-in-github",
        "colab_type": "text"
      },
      "source": [
        "<a href=\"https://colab.research.google.com/github/vglykos/classes/blob/main/classes_static_methods.ipynb\" target=\"_parent\"><img src=\"https://colab.research.google.com/assets/colab-badge.svg\" alt=\"Open In Colab\"/></a>"
      ]
    },
    {
      "cell_type": "markdown",
      "source": [
        "https://www.youtube.com/watch?v=JeznW_7DlB0&ab_channel=TechWithTim"
      ],
      "metadata": {
        "id": "khmUBiv7jlQm"
      }
    },
    {
      "cell_type": "code",
      "execution_count": 6,
      "metadata": {
        "colab": {
          "base_uri": "https://localhost:8080/"
        },
        "id": "x_Wg3XINjfcE",
        "outputId": "8f4c9d3c-e928-4c1b-8fc9-b9119ed6d4f2"
      },
      "outputs": [
        {
          "output_type": "stream",
          "name": "stdout",
          "text": [
            "20\n",
            "Dimi\n"
          ]
        }
      ],
      "source": [
        "#static methods is basically a way to have a bunch of functions together.\n",
        "\n",
        "class Math:\n",
        "\n",
        "    @staticmethod\n",
        "    def add5(x):\n",
        "        return x+5\n",
        "\n",
        "    @staticmethod\n",
        "    def add10(x):\n",
        "        return x+10\n",
        "\n",
        "    @staticmethod\n",
        "    def pr():\n",
        "        print(\"Dimi\")\n",
        "\n",
        "\n",
        "print(Math.add10(10))\n",
        "\n",
        "Math.pr()"
      ]
    }
  ]
}