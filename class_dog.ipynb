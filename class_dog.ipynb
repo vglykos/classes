{
  "nbformat": 4,
  "nbformat_minor": 0,
  "metadata": {
    "colab": {
      "provenance": [],
      "authorship_tag": "ABX9TyPm/Jg8dbYXtHW/FKhRnaa6",
      "include_colab_link": true
    },
    "kernelspec": {
      "name": "python3",
      "display_name": "Python 3"
    },
    "language_info": {
      "name": "python"
    }
  },
  "cells": [
    {
      "cell_type": "markdown",
      "metadata": {
        "id": "view-in-github",
        "colab_type": "text"
      },
      "source": [
        "<a href=\"https://colab.research.google.com/github/vglykos/classes/blob/main/class_dog.ipynb\" target=\"_parent\"><img src=\"https://colab.research.google.com/assets/colab-badge.svg\" alt=\"Open In Colab\"/></a>"
      ]
    },
    {
      "cell_type": "markdown",
      "source": [
        "# if you are having a matlab background then you are not familiar with OOP and classes"
      ],
      "metadata": {
        "id": "QIKx_3oy2znm"
      }
    },
    {
      "cell_type": "markdown",
      "source": [
        "https://www.youtube.com/watch?v=JeznW_7DlB0&ab_channel=TechWithTim"
      ],
      "metadata": {
        "id": "X4_snntT2tFD"
      }
    },
    {
      "cell_type": "code",
      "execution_count": null,
      "metadata": {
        "colab": {
          "base_uri": "https://localhost:8080/"
        },
        "id": "bcQGF-ydweq2",
        "outputId": "f350f9cb-d381-488f-bd3a-525264fabbdc"
      },
      "outputs": [
        {
          "output_type": "stream",
          "name": "stdout",
          "text": [
            "bark\n",
            "bark\n"
          ]
        },
        {
          "output_type": "execute_result",
          "data": {
            "text/plain": [
              "5"
            ]
          },
          "metadata": {},
          "execution_count": 1
        }
      ],
      "source": [
        "class Dog:\n",
        "\n",
        "    def bark(self):\n",
        "        print(\"bark\")\n",
        "\n",
        "    def add_one(self,x):\n",
        "        return x+1\n",
        "\n",
        "d=Dog() #instantiate\n",
        "\n",
        "\n",
        "d.bark()#call method\n",
        "#or\n",
        "Dog().bark()\n",
        "\n",
        "d.add_one(4)\n",
        "\n"
      ]
    },
    {
      "cell_type": "code",
      "source": [
        "class Dog:\n",
        "\n",
        "    def __init__(self, name):\n",
        "        self.name= name\n",
        "\n",
        "    def bark(self):\n",
        "        print(\"bark\")\n",
        "\n",
        "    def add_one(self,x):\n",
        "        return x+1\n",
        "\n",
        "d=Dog([\"Tim\",\"Jack\"]) #instantiate\n"
      ],
      "metadata": {
        "id": "3fad-XeE0ar0"
      },
      "execution_count": null,
      "outputs": []
    },
    {
      "cell_type": "code",
      "source": [
        "d.name"
      ],
      "metadata": {
        "colab": {
          "base_uri": "https://localhost:8080/"
        },
        "id": "TAyuy9h10nL8",
        "outputId": "166ba7b5-74e3-47d1-913d-31f6bd05903b"
      },
      "execution_count": null,
      "outputs": [
        {
          "output_type": "execute_result",
          "data": {
            "text/plain": [
              "['Tim', 'Jack']"
            ]
          },
          "metadata": {},
          "execution_count": 3
        }
      ]
    },
    {
      "cell_type": "code",
      "source": [
        "d1=Dog(\"Bill\")\n",
        "d1.name"
      ],
      "metadata": {
        "colab": {
          "base_uri": "https://localhost:8080/",
          "height": 35
        },
        "id": "Snqn2Uvb1P7z",
        "outputId": "deb12ede-1ad7-456e-9852-7fde20cd7587"
      },
      "execution_count": null,
      "outputs": [
        {
          "output_type": "execute_result",
          "data": {
            "text/plain": [
              "'Bill'"
            ],
            "application/vnd.google.colaboratory.intrinsic+json": {
              "type": "string"
            }
          },
          "metadata": {},
          "execution_count": 4
        }
      ]
    },
    {
      "cell_type": "code",
      "source": [
        "class Dog2:\n",
        "\n",
        "    def __init__(self, name, age):\n",
        "        self.name= name\n",
        "        self.age= age\n",
        "\n",
        "    def bark(self):\n",
        "        print(\"bark\")\n",
        "\n",
        "    def add_one(self,x):\n",
        "        return x+self.age\n",
        "\n",
        "d20= Dog2(\"Matt\", 22)\n",
        "d20.age\n",
        "\n",
        "d20.add_one(5)"
      ],
      "metadata": {
        "colab": {
          "base_uri": "https://localhost:8080/"
        },
        "id": "j0oPDVYE2HR5",
        "outputId": "f7f4a370-2108-4ac4-e46d-aa10e4e6c717"
      },
      "execution_count": null,
      "outputs": [
        {
          "output_type": "execute_result",
          "data": {
            "text/plain": [
              "27"
            ]
          },
          "metadata": {},
          "execution_count": 5
        }
      ]
    },
    {
      "cell_type": "code",
      "source": [
        "class Dog3:\n",
        "\n",
        "    def __init__(self, name, age):\n",
        "        self.name= name\n",
        "        self.age= age\n",
        "\n",
        "    def bark(self):\n",
        "        print(\"bark\")\n",
        "\n",
        "    def add_one(x): #Oops. I didn't put the self parameter here\n",
        "        return x+self.age\n",
        "\n",
        "d20= Dog3(\"Matt\", 22)\n",
        "d20.age\n",
        "\n",
        "d20.add_one(5)"
      ],
      "metadata": {
        "colab": {
          "base_uri": "https://localhost:8080/",
          "height": 201
        },
        "id": "0WEmd5yCnUaE",
        "outputId": "4dea8702-8fcf-4b17-84a8-19d91eceb075"
      },
      "execution_count": null,
      "outputs": [
        {
          "output_type": "error",
          "ename": "TypeError",
          "evalue": "ignored",
          "traceback": [
            "\u001b[0;31m---------------------------------------------------------------------------\u001b[0m",
            "\u001b[0;31mTypeError\u001b[0m                                 Traceback (most recent call last)",
            "\u001b[0;32m<ipython-input-6-afbe9cb02512>\u001b[0m in \u001b[0;36m<module>\u001b[0;34m\u001b[0m\n\u001b[1;32m     14\u001b[0m \u001b[0md20\u001b[0m\u001b[0;34m.\u001b[0m\u001b[0mage\u001b[0m\u001b[0;34m\u001b[0m\u001b[0;34m\u001b[0m\u001b[0m\n\u001b[1;32m     15\u001b[0m \u001b[0;34m\u001b[0m\u001b[0m\n\u001b[0;32m---> 16\u001b[0;31m \u001b[0md20\u001b[0m\u001b[0;34m.\u001b[0m\u001b[0madd_one\u001b[0m\u001b[0;34m(\u001b[0m\u001b[0;36m5\u001b[0m\u001b[0;34m)\u001b[0m\u001b[0;34m\u001b[0m\u001b[0;34m\u001b[0m\u001b[0m\n\u001b[0m",
            "\u001b[0;31mTypeError\u001b[0m: add_one() takes 1 positional argument but 2 were given"
          ]
        }
      ]
    },
    {
      "cell_type": "code",
      "source": [
        "#we can also create methods that modify the attributes\n",
        "class Dog4:\n",
        "\n",
        "    def __init__(self, name, age):\n",
        "        self.name= name\n",
        "        self.age= age\n",
        "\n",
        "    def bark(self):\n",
        "        print(\"bark\")\n",
        "\n",
        "    def add_one(self,x): #Oops. I didn't put the shelf parameter here\n",
        "        return x+self.age\n",
        "\n",
        "    def set_age(self, age):\n",
        "        self.age= age\n",
        "        return self.age\n",
        "\n",
        "d20= Dog4(\"Matt\", 22)\n",
        "d20.age\n",
        "d20.set_age(53)\n",
        "d20.add_one(5)\n",
        "# "
      ],
      "metadata": {
        "colab": {
          "base_uri": "https://localhost:8080/"
        },
        "id": "xZb5OHHsntjF",
        "outputId": "98f07364-6576-4140-f664-3c6d6b81d644"
      },
      "execution_count": null,
      "outputs": [
        {
          "output_type": "execute_result",
          "data": {
            "text/plain": [
              "58"
            ]
          },
          "metadata": {},
          "execution_count": 7
        }
      ]
    }
  ]
}