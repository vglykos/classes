{
  "nbformat": 4,
  "nbformat_minor": 0,
  "metadata": {
    "colab": {
      "provenance": [],
      "authorship_tag": "ABX9TyN+pNcXL1BWkPlGMIcO1IBI",
      "include_colab_link": true
    },
    "kernelspec": {
      "name": "python3",
      "display_name": "Python 3"
    },
    "language_info": {
      "name": "python"
    }
  },
  "cells": [
    {
      "cell_type": "markdown",
      "metadata": {
        "id": "view-in-github",
        "colab_type": "text"
      },
      "source": [
        "<a href=\"https://colab.research.google.com/github/vglykos/classes/blob/main/classes_inheritance.ipynb\" target=\"_parent\"><img src=\"https://colab.research.google.com/assets/colab-badge.svg\" alt=\"Open In Colab\"/></a>"
      ]
    },
    {
      "cell_type": "markdown",
      "source": [
        "https://www.youtube.com/watch?v=JeznW_7DlB0&ab_channel=TechWithTim"
      ],
      "metadata": {
        "id": "vwRYzzgTMezZ"
      }
    },
    {
      "cell_type": "code",
      "execution_count": 2,
      "metadata": {
        "id": "2cRitGKjMb66"
      },
      "outputs": [],
      "source": [
        "#I will create two different classes with same attribute and method but slightly different output\n",
        "\n",
        "class Dog:\n",
        "    def __init__(self, name, age):\n",
        "        self.name= name\n",
        "        self.age= age\n",
        "    \n",
        "    def speak(self):\n",
        "        print(\"Bark\")\n",
        "\n",
        "\n",
        "class Cat:\n",
        "    def __init__(self, name, age):\n",
        "        self.name= name\n",
        "        self.age= age\n",
        "\n",
        "    def speak(self):\n",
        "        print(\"Meou\")\n",
        "    \n",
        "\n",
        "    "
      ]
    },
    {
      "cell_type": "code",
      "source": [
        "#Is there a way where i can write another class (upper level class  / parent) and inherit to \n",
        "#the Dog and Cat classes and keep only the different syntax?\n",
        "#So afterwards the code look like \n",
        "\n",
        "#I will create two different classes with same attribute and method but slightly different output\n",
        "\n",
        "class Dog:    \n",
        "    def speak(self):\n",
        "        print(\"Bark\")\n",
        "\n",
        "\n",
        "class Cat:\n",
        "    def speak(self):\n",
        "        print(\"Meou\")\n",
        "    \n",
        "\n",
        "#Or sth like that  "
      ],
      "metadata": {
        "id": "-nkjUKI9NhZh"
      },
      "execution_count": null,
      "outputs": []
    },
    {
      "cell_type": "code",
      "source": [
        "#Upper level classes\n",
        "class Pet:\n",
        "    def __init__(self, name, age):\n",
        "        self.name= name\n",
        "        self.age= age\n",
        "    \n",
        "    def show(self):\n",
        "        print(\"I am {} and I am {} years old\" .format(self.name, self.age))\n",
        "        # pass\n",
        "\n",
        "    def speak(self):\n",
        "        print(\"I dont know what to say\")\n",
        "\n",
        "\n",
        "#Lower level classes\n",
        "class Dog(Pet):    \n",
        "    def speak(self):\n",
        "        print(\"Bark\")\n",
        "\n",
        "\n",
        "class Cat(Pet):\n",
        "    def speak(self):\n",
        "        print(\"Meou\")\n",
        "\n",
        "\n",
        "#Instantiate upper class\n",
        "p= Pet(\"Tim\", 19)\n",
        "print(p.name)\n",
        "print(p.age)\n",
        "p.show()\n",
        "\n",
        "#instantiate lower classes\n",
        "d= Dog(\"Jack\", 5)\n",
        "print(d.name)\n",
        "print(d.age)\n",
        "d.show()\n",
        "d.speak()\n",
        "\n",
        "\n",
        "c= Cat(\"Hazriel\", 6)\n",
        "print(c.name)\n",
        "print(c.age)\n",
        "c.show()\n",
        "c.speak()\n",
        "\n",
        "# If parent and child classes have the same method, then the child method prevails\n",
        "p.speak()\n",
        "d.speak()\n",
        "c.speak()\n"
      ],
      "metadata": {
        "colab": {
          "base_uri": "https://localhost:8080/"
        },
        "id": "6VdqA2NWOdNN",
        "outputId": "f59dc27f-69d3-4082-fd66-6732096dad88"
      },
      "execution_count": 21,
      "outputs": [
        {
          "output_type": "stream",
          "name": "stdout",
          "text": [
            "Tim\n",
            "19\n",
            "I am Tim and I am 19 years old\n",
            "Jack\n",
            "5\n",
            "I am Jack and I am 5 years old\n",
            "Bark\n",
            "Hazriel\n",
            "6\n",
            "I am Hazriel and I am 6 years old\n",
            "Meou\n",
            "I dont know what to say\n",
            "Bark\n",
            "Meou\n",
            "Nemo\n",
            "2\n",
            "I am Nemo and I am 2 years old\n",
            "I dont know what to say\n"
          ]
        }
      ]
    },
    {
      "cell_type": "code",
      "source": [
        "# We can create a child class which will inherit everything from the parent class\n",
        "class Fish(Pet):\n",
        "    pass\n",
        "\n",
        "f=Fish(\"Nemo\", 2)\n",
        "print(f.name)\n",
        "print(f.age)\n",
        "f.show()\n",
        "f.speak()"
      ],
      "metadata": {
        "id": "hMNXNKXFR1JO"
      },
      "execution_count": null,
      "outputs": []
    },
    {
      "cell_type": "code",
      "source": [
        "#what if a child class (\"Cat\") needs an extra attribute (color)?\n",
        "\n",
        "#Upper level classes\n",
        "class Pet:\n",
        "    def __init__(self, name, age):\n",
        "        self.name= name\n",
        "        self.age= age\n",
        "    \n",
        "    def show(self):\n",
        "        print(\"I am {} and I am {} years old\" .format(self.name, self.age))\n",
        "        # pass\n",
        "\n",
        "    def speak(self):\n",
        "        print(\"I dont know what to say\")\n",
        "\n",
        "\n",
        "#Lower level classes\n",
        "class Dog(Pet):    \n",
        "    def speak(self):\n",
        "        print(\"Bark\")\n",
        "\n",
        "\n",
        "class Cat(Pet):\n",
        "    def __init__(self, name, age, color):\n",
        "        super().__init__(name, age)\n",
        "        self.color= color\n",
        "\n",
        "    def speak(self):\n",
        "        print(\"Meou\")\n",
        "    \n",
        "    def pet_color(self):\n",
        "        print(\"color is {}\".format(self.color))\n",
        "\n",
        "\n",
        "#Instantiate\n",
        "c= Cat(\"Hazriel\", 6, \"brown\")\n",
        "print(c.name)\n",
        "print(c.age)\n",
        "c.show()\n",
        "c.speak()\n",
        "c.pet_color()"
      ],
      "metadata": {
        "colab": {
          "base_uri": "https://localhost:8080/"
        },
        "id": "JlQTP8XLR-sZ",
        "outputId": "284bb5a3-89ff-4e1f-9912-88f400201282"
      },
      "execution_count": 29,
      "outputs": [
        {
          "output_type": "stream",
          "name": "stdout",
          "text": [
            "Hazriel\n",
            "6\n",
            "I am Hazriel and I am 6 years old\n",
            "Meou\n",
            "color is brown\n"
          ]
        }
      ]
    }
  ]
}