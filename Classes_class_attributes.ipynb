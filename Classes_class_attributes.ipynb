{
  "nbformat": 4,
  "nbformat_minor": 0,
  "metadata": {
    "colab": {
      "provenance": [],
      "authorship_tag": "ABX9TyPTvHB/PvW9uDXiklWRMWBy",
      "include_colab_link": true
    },
    "kernelspec": {
      "name": "python3",
      "display_name": "Python 3"
    },
    "language_info": {
      "name": "python"
    }
  },
  "cells": [
    {
      "cell_type": "markdown",
      "metadata": {
        "id": "view-in-github",
        "colab_type": "text"
      },
      "source": [
        "<a href=\"https://colab.research.google.com/github/vglykos/classes/blob/main/Classes_class_attributes.ipynb\" target=\"_parent\"><img src=\"https://colab.research.google.com/assets/colab-badge.svg\" alt=\"Open In Colab\"/></a>"
      ]
    },
    {
      "cell_type": "markdown",
      "source": [
        "https://www.youtube.com/watch?v=JeznW_7DlB0&ab_channel=TechWithTim"
      ],
      "metadata": {
        "id": "YDHmq4QQeTom"
      }
    },
    {
      "cell_type": "code",
      "execution_count": 12,
      "metadata": {
        "colab": {
          "base_uri": "https://localhost:8080/"
        },
        "id": "_KS5Alx9Uyi1",
        "outputId": "c79376f2-e8be-42f9-eb7e-93066a447793"
      },
      "outputs": [
        {
          "output_type": "stream",
          "name": "stdout",
          "text": [
            "Tim\n",
            "0\n",
            "Bill\n",
            "0\n",
            "0\n",
            "8\n",
            "9\n",
            "8\n",
            "8\n"
          ]
        }
      ],
      "source": [
        "class Person:\n",
        "    number_of_people = 0 # this attribute is specific to the class but not to the instance\n",
        "\n",
        "    def __init__(self, name): #name attribute is specific to the instance\n",
        "        self.name = name\n",
        "\n",
        "\n",
        "#instantiate\n",
        "p1= Person(\"Tim\")\n",
        "p2= Person(\"Bill\")\n",
        "\n",
        "print(p1.name)\n",
        "print(p1.number_of_people)\n",
        "\n",
        "print(p2.name)\n",
        "print(p2.number_of_people)\n",
        "\n",
        "print(Person.number_of_people)\n",
        "\n",
        "\n",
        "Person.number_of_people= 8\n",
        "print(p1.number_of_people)\n",
        "\n",
        "p2.number_of_people= 9 #that applies only for p2\n",
        "print(p2.number_of_people)\n",
        "\n",
        "print(p1.number_of_people)\n",
        "print(Person.number_of_people)"
      ]
    }
  ]
}