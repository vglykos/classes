{
  "nbformat": 4,
  "nbformat_minor": 0,
  "metadata": {
    "colab": {
      "provenance": [],
      "authorship_tag": "ABX9TyOruArZPet2dlPrnXbpQJaA",
      "include_colab_link": true
    },
    "kernelspec": {
      "name": "python3",
      "display_name": "Python 3"
    },
    "language_info": {
      "name": "python"
    }
  },
  "cells": [
    {
      "cell_type": "markdown",
      "metadata": {
        "id": "view-in-github",
        "colab_type": "text"
      },
      "source": [
        "<a href=\"https://colab.research.google.com/github/vglykos/classes/blob/main/class_beginer.ipynb\" target=\"_parent\"><img src=\"https://colab.research.google.com/assets/colab-badge.svg\" alt=\"Open In Colab\"/></a>"
      ]
    },
    {
      "cell_type": "markdown",
      "source": [
        "# if you are having a matlab background then you are not familiar with OOP and classes"
      ],
      "metadata": {
        "id": "QIKx_3oy2znm"
      }
    },
    {
      "cell_type": "markdown",
      "source": [
        "https://www.youtube.com/watch?v=JeznW_7DlB0&ab_channel=TechWithTim"
      ],
      "metadata": {
        "id": "X4_snntT2tFD"
      }
    },
    {
      "cell_type": "code",
      "execution_count": 10,
      "metadata": {
        "colab": {
          "base_uri": "https://localhost:8080/"
        },
        "id": "bcQGF-ydweq2",
        "outputId": "2bc4dd77-c724-4592-d3b0-4757192cf9ac"
      },
      "outputs": [
        {
          "output_type": "stream",
          "name": "stdout",
          "text": [
            "bark\n",
            "bark\n"
          ]
        },
        {
          "output_type": "execute_result",
          "data": {
            "text/plain": [
              "5"
            ]
          },
          "metadata": {},
          "execution_count": 10
        }
      ],
      "source": [
        "class Dog:\n",
        "\n",
        "    def bark(self):\n",
        "        print(\"bark\")\n",
        "\n",
        "    def add_one(self,x):\n",
        "        return x+1\n",
        "\n",
        "d=Dog() #instantiate\n",
        "\n",
        "\n",
        "d.bark()#call method\n",
        "#or\n",
        "Dog().bark()\n",
        "\n",
        "d.add_one(4)\n",
        "\n"
      ]
    },
    {
      "cell_type": "code",
      "source": [
        "class Dog:\n",
        "\n",
        "    def __init__(self, name):\n",
        "        self.name= name\n",
        "\n",
        "    def bark(self):\n",
        "        print(\"bark\")\n",
        "\n",
        "    def add_one(self,x):\n",
        "        return x+1\n",
        "\n",
        "d=Dog([\"Tim\",\"Jack\"]) #instantiate\n"
      ],
      "metadata": {
        "id": "3fad-XeE0ar0"
      },
      "execution_count": 26,
      "outputs": []
    },
    {
      "cell_type": "code",
      "source": [
        "d.name"
      ],
      "metadata": {
        "colab": {
          "base_uri": "https://localhost:8080/"
        },
        "id": "TAyuy9h10nL8",
        "outputId": "42c1f7f2-f6f9-4ce2-bb65-50050af2a043"
      },
      "execution_count": 29,
      "outputs": [
        {
          "output_type": "execute_result",
          "data": {
            "text/plain": [
              "['Tim', 'Jack']"
            ]
          },
          "metadata": {},
          "execution_count": 29
        }
      ]
    },
    {
      "cell_type": "code",
      "source": [
        "d1=Dog(\"Bill\")\n",
        "d1.name"
      ],
      "metadata": {
        "colab": {
          "base_uri": "https://localhost:8080/",
          "height": 35
        },
        "id": "Snqn2Uvb1P7z",
        "outputId": "8eb021ee-8fbf-4889-ad7b-99c3e5d7be57"
      },
      "execution_count": 28,
      "outputs": [
        {
          "output_type": "execute_result",
          "data": {
            "text/plain": [
              "'Bill'"
            ],
            "application/vnd.google.colaboratory.intrinsic+json": {
              "type": "string"
            }
          },
          "metadata": {},
          "execution_count": 28
        }
      ]
    },
    {
      "cell_type": "code",
      "source": [
        "class Dog2:\n",
        "\n",
        "    def __init__(self, name, age):\n",
        "        self.name= name\n",
        "        self.age= age\n",
        "\n",
        "    def bark(self):\n",
        "        print(\"bark\")\n",
        "\n",
        "    def add_one(self,x):\n",
        "        return x+self.age\n",
        "\n",
        "d20= Dog2(\"Matt\", 22)\n",
        "d20.age\n",
        "\n",
        "d20.add_one(5)"
      ],
      "metadata": {
        "colab": {
          "base_uri": "https://localhost:8080/"
        },
        "id": "j0oPDVYE2HR5",
        "outputId": "ee2dd5a4-99f5-490c-b48f-f4ae40564eaf"
      },
      "execution_count": 35,
      "outputs": [
        {
          "output_type": "execute_result",
          "data": {
            "text/plain": [
              "27"
            ]
          },
          "metadata": {},
          "execution_count": 35
        }
      ]
    }
  ]
}