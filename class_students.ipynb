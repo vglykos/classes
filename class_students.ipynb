{
  "nbformat": 4,
  "nbformat_minor": 0,
  "metadata": {
    "colab": {
      "provenance": [],
      "authorship_tag": "ABX9TyNrJMZCDyWfPAbS3N7RDrbk",
      "include_colab_link": true
    },
    "kernelspec": {
      "name": "python3",
      "display_name": "Python 3"
    },
    "language_info": {
      "name": "python"
    }
  },
  "cells": [
    {
      "cell_type": "markdown",
      "metadata": {
        "id": "view-in-github",
        "colab_type": "text"
      },
      "source": [
        "<a href=\"https://colab.research.google.com/github/vglykos/classes/blob/main/class_students.ipynb\" target=\"_parent\"><img src=\"https://colab.research.google.com/assets/colab-badge.svg\" alt=\"Open In Colab\"/></a>"
      ]
    },
    {
      "cell_type": "markdown",
      "source": [
        "#Level 2\n",
        "https://www.youtube.com/watch?v=JeznW_7DlB0&ab_channel=TechWithTim (19.20min)"
      ],
      "metadata": {
        "id": "Op9XHOP682s3"
      }
    },
    {
      "cell_type": "code",
      "execution_count": 36,
      "metadata": {
        "colab": {
          "base_uri": "https://localhost:8080/"
        },
        "id": "1qslELqv81x-",
        "outputId": "2eddf5d9-2366-4744-ba5a-42cf7649bf0e"
      },
      "outputs": [
        {
          "output_type": "stream",
          "name": "stdout",
          "text": [
            "Tim\n",
            "19\n",
            "85.0\n"
          ]
        }
      ],
      "source": [
        "# class Student:\n",
        "#     def __init__(self, name, age, grade):\n",
        "#         self.name= name\n",
        "#         self.age= age\n",
        "#         self.grade= grade # 0-100\n",
        "\n",
        "#     def get_grade(self):\n",
        "#         return self.grade\n",
        "\n",
        "\n",
        "# class Course:\n",
        "#     def __init__(self, name, max_students):\n",
        "#         self.name= name\n",
        "#         self.max_students= max_students\n",
        "#         #we can create attributes that are not assigned to the args\n",
        "#         self.students=[]# empty list\n",
        "\n",
        "#     #create a new method for adding students to the course\n",
        "#     def add_student(self, student):\n",
        "#         if len(self.students) < self.max_students:\n",
        "#             self.students.append(student)\n",
        "#             return True\n",
        "#         else:\n",
        "#             return False\n",
        "\n",
        "    \n",
        "#     def get_average_grade(self):\n",
        "#         val=0\n",
        "#         for student in self.students:\n",
        "#             val += student.get_grade()\n",
        "#         return val / len(self.students)\n",
        "\n",
        "\n",
        "# #Create sutdent object\n",
        "# s1= Student(\"Tim\", 19, 95)\n",
        "# s2= Student(\"Bill\", 19, 75)\n",
        "# s3= Student(\"Jill\", 20, 65)\n",
        "\n",
        "# #Create course object\n",
        "# course= Course(\"Science\", 2)\n",
        "\n",
        "# #append object student inside the course object with the add_student method\n",
        "# course.add_student(s1)\n",
        "# course.add_student(s2)\n",
        "# # course.add_student(s3)\n",
        "\n",
        "# print(course.students[0].name)\n",
        "# print(course.students[1].age)\n",
        "\n",
        "# print(course.get_average_grade())"
      ]
    },
    {
      "cell_type": "markdown",
      "source": [
        "#Do it again"
      ],
      "metadata": {
        "id": "QkGBzisQHk_5"
      }
    },
    {
      "cell_type": "code",
      "source": [
        "#Create a class called \"Course\"\n",
        "\n",
        "class Course:\n",
        "    def __init__(self, course_name, max_students):\n",
        "        self.course_name= course_name\n",
        "        self.max_students= max_students\n",
        "        # the following attributes are not class args\n",
        "        self.students= []\n",
        "    \n",
        "    def add_student(self, student): # student will be an object\n",
        "        self.students.append(student)\n",
        "        # pass\n",
        "    \n",
        "    def get_average_grade(self):\n",
        "        value=0\n",
        "        for student in self.students:\n",
        "            value+= student.get_grade()\n",
        "        return value / len(self.students)\n",
        "        # pass\n",
        "\n",
        "\n",
        "#Now create another class \"Student\" which will create the student object\n",
        "class Student:\n",
        "    def __init__(self, name, age, grade):\n",
        "        self.name= name\n",
        "        self.age= age\n",
        "        self.grade= grade\n",
        "    \n",
        "    def get_grade(self):\n",
        "        return self.grade\n",
        "\n",
        "\n",
        "#instantiate student objects\n",
        "s1= Student(\"Tim\", 19, 95)\n",
        "s1.name\n",
        "s1.age\n",
        "s1.grade\n",
        "s1.get_grade()\n",
        "\n",
        "s2= Student(\"Bill\", 20, 80)\n",
        "s2.name\n",
        "\n",
        "s3= Student(\"Alice\", 18, 76)\n",
        "s3.name\n",
        "\n",
        "#instantiate course\n",
        "course= Course(\"Science\", 2)\n",
        "print(course.course_name)\n",
        "print(course.max_students)\n",
        "\n",
        "#use add_student method\n",
        "course.add_student(s1)\n",
        "# course.students[0].name\n",
        "\n",
        "course.add_student(s2)\n",
        "# course.students[1].name\n",
        "\n",
        "course.add_student(s3)\n",
        "# course.students[2].name\n",
        "\n",
        "#use get_average_grade method\n",
        "course.get_average_grade()\n"
      ],
      "metadata": {
        "colab": {
          "base_uri": "https://localhost:8080/"
        },
        "id": "Q8Wd7CpMHncC",
        "outputId": "dd2e5b6c-9e84-4cc1-8273-3a5cf4485e62"
      },
      "execution_count": 78,
      "outputs": [
        {
          "output_type": "stream",
          "name": "stdout",
          "text": [
            "Science\n",
            "2\n"
          ]
        },
        {
          "output_type": "execute_result",
          "data": {
            "text/plain": [
              "83.66666666666667"
            ]
          },
          "metadata": {},
          "execution_count": 78
        }
      ]
    },
    {
      "cell_type": "code",
      "source": [],
      "metadata": {
        "colab": {
          "base_uri": "https://localhost:8080/",
          "height": 35
        },
        "id": "GKcOA6IUCIkn",
        "outputId": "35993902-587b-4884-ed7e-ad8fbe00496e"
      },
      "execution_count": 31,
      "outputs": [
        {
          "output_type": "execute_result",
          "data": {
            "text/plain": [
              "'Tim'"
            ],
            "application/vnd.google.colaboratory.intrinsic+json": {
              "type": "string"
            }
          },
          "metadata": {},
          "execution_count": 31
        }
      ]
    }
  ]
}